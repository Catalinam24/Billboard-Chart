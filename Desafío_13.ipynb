{
  "nbformat": 4,
  "nbformat_minor": 0,
  "metadata": {
    "colab": {
      "provenance": []
    },
    "kernelspec": {
      "name": "python3",
      "display_name": "Python 3"
    },
    "language_info": {
      "name": "python"
    }
  },
  "cells": [
    {
      "cell_type": "markdown",
      "source": [
        "**Librerías**"
      ],
      "metadata": {
        "id": "vkxVf426w2DN"
      }
    },
    {
      "cell_type": "code",
      "source": [
        "import pandas as pd\n",
        "import matplotlib.pyplot as plt\n",
        "import matplotlib.gridspec as gridspec\n",
        "import seaborn as sns\n",
        "import numpy as np"
      ],
      "metadata": {
        "id": "GjJK5AXvCxR4"
      },
      "execution_count": 1,
      "outputs": []
    },
    {
      "cell_type": "code",
      "source": [
        "from sklearn.preprocessing import StandardScaler\n",
        "from sklearn.model_selection import train_test_split\n",
        "from sklearn.metrics import confusion_matrix, classification_report, roc_curve, roc_auc_score\n",
        "from sklearn.linear_model import LogisticRegression\n",
        "from sklearn.tree import DecisionTreeClassifier, export_graphviz\n",
        "from sklearn.ensemble import RandomForestClassifier\n",
        "from sklearn.svm import SVC\n",
        "from sklearn.neighbors import KNeighborsClassifier\n",
        "from sklearn.metrics import mean_absolute_error, mean_squared_error, confusion_matrix, classification_report\n",
        "from sklearn import metrics\n",
        "from sklearn.model_selection import KFold\n",
        "from sklearn.model_selection import cross_validate"
      ],
      "metadata": {
        "id": "_oCvdjxaC3B1"
      },
      "execution_count": 2,
      "outputs": []
    },
    {
      "cell_type": "markdown",
      "source": [
        "# **Obtención de datos**"
      ],
      "metadata": {
        "id": "HGU7gEV6w4X0"
      }
    },
    {
      "cell_type": "code",
      "source": [
        "from google.colab import drive\n",
        "drive.mount('/content/drive')"
      ],
      "metadata": {
        "colab": {
          "base_uri": "https://localhost:8080/"
        },
        "id": "jIPfqKqpDM_P",
        "outputId": "8da23338-5d53-4f91-fc84-35d3a8a274d9"
      },
      "execution_count": 3,
      "outputs": [
        {
          "output_type": "stream",
          "name": "stdout",
          "text": [
            "Mounted at /content/drive\n"
          ]
        }
      ]
    },
    {
      "cell_type": "code",
      "source": [
        "#Los datos se importan desde una carpeta de google drive\n",
        "data = pd.read_csv('/content/drive/MyDrive/Curso Data Science/Desafío 13/Set de datos/data.csv')"
      ],
      "metadata": {
        "id": "sZ46QupeC9f9"
      },
      "execution_count": 4,
      "outputs": []
    },
    {
      "cell_type": "markdown",
      "source": [
        "# **Limpieza y preparación de datos**"
      ],
      "metadata": {
        "id": "t_kQyEakw8yP"
      }
    },
    {
      "cell_type": "code",
      "source": [
        "#Visualización de los datos tal como fueron descargados de la fuente\n",
        "data.head()"
      ],
      "metadata": {
        "id": "Za96BVzSI0eU"
      },
      "execution_count": null,
      "outputs": []
    },
    {
      "cell_type": "code",
      "source": [
        "#Preparación de los datos para su posterior análisis\n",
        "data = data.drop(columns = [\"id\"]) #no es una columna que sirva para el análisis\n",
        "data.rename(columns = {\"diagnosis\": \"diagnóstico\",\"radius_mean\":\"radio\",\t\"texture_mean\":\"textura\", \"perimeter_mean\":\"perímetro\",\t\"area_mean\":\"área\",\n",
        "                       \"smoothness_mean\":\"suavidad\", \"compactness_mean\":\"compactibilidad\",\t\"concavity_mean\":\"concavidad\", \"concave points_mean\":\"puntos_cóncavos\",\n",
        "                       \"symmetry_mean\":\"simetría\",\"fractal_dimension_mean\":\"dimensión_fractal\"}, inplace = True)"
      ],
      "metadata": {
        "id": "XeBUiE7PP3LF"
      },
      "execution_count": 6,
      "outputs": []
    },
    {
      "cell_type": "code",
      "source": [
        "data.diagnóstico.unique()"
      ],
      "metadata": {
        "id": "ykzgt9JGTSvl",
        "colab": {
          "base_uri": "https://localhost:8080/"
        },
        "outputId": "8300d18f-4ef2-4c5e-d7ab-15e2ca12df06"
      },
      "execution_count": 7,
      "outputs": [
        {
          "output_type": "execute_result",
          "data": {
            "text/plain": [
              "array(['M', 'B'], dtype=object)"
            ]
          },
          "metadata": {},
          "execution_count": 7
        }
      ]
    },
    {
      "cell_type": "code",
      "source": [
        "#Mapeo de la variable diagnóstico para que sea cuantitativa y poder aplicar los modelos de machine learning\n",
        "data[\"diagnóstico\"] = data[\"diagnóstico\"].map({'M':1,'B':0})"
      ],
      "metadata": {
        "id": "gMhPCOBnRk1B"
      },
      "execution_count": 8,
      "outputs": []
    },
    {
      "cell_type": "code",
      "source": [
        "data.info()"
      ],
      "metadata": {
        "id": "6h7t9LL8RfYM"
      },
      "execution_count": null,
      "outputs": []
    },
    {
      "cell_type": "markdown",
      "source": [
        "**Datos ausentes**"
      ],
      "metadata": {
        "id": "Vc176v7DRbJs"
      }
    },
    {
      "cell_type": "code",
      "source": [
        "data.isnull().sum()"
      ],
      "metadata": {
        "id": "Xl8eQSttI4Gd"
      },
      "execution_count": null,
      "outputs": []
    },
    {
      "cell_type": "code",
      "source": [
        "len(data)"
      ],
      "metadata": {
        "id": "wGWgfMXzwYgx"
      },
      "execution_count": null,
      "outputs": []
    },
    {
      "cell_type": "code",
      "source": [
        "data.describe()"
      ],
      "metadata": {
        "id": "ifT7ObXpxBYf",
        "colab": {
          "base_uri": "https://localhost:8080/",
          "height": 300
        },
        "outputId": "d7697450-2301-4885-9ea0-0096b1315f78"
      },
      "execution_count": 12,
      "outputs": [
        {
          "output_type": "execute_result",
          "data": {
            "text/plain": [
              "       diagnóstico       radio     textura   perímetro         área  \\\n",
              "count   569.000000  569.000000  569.000000  569.000000   569.000000   \n",
              "mean      0.372583   14.127292   19.289649   91.969033   654.889104   \n",
              "std       0.483918    3.524049    4.301036   24.298981   351.914129   \n",
              "min       0.000000    6.981000    9.710000   43.790000   143.500000   \n",
              "25%       0.000000   11.700000   16.170000   75.170000   420.300000   \n",
              "50%       0.000000   13.370000   18.840000   86.240000   551.100000   \n",
              "75%       1.000000   15.780000   21.800000  104.100000   782.700000   \n",
              "max       1.000000   28.110000   39.280000  188.500000  2501.000000   \n",
              "\n",
              "         suavidad  compactibilidad  concavidad  puntos_cóncavos    simetría  \\\n",
              "count  569.000000       569.000000  569.000000       569.000000  569.000000   \n",
              "mean     0.096360         0.104341    0.088799         0.048919    0.181162   \n",
              "std      0.014064         0.052813    0.079720         0.038803    0.027414   \n",
              "min      0.052630         0.019380    0.000000         0.000000    0.106000   \n",
              "25%      0.086370         0.064920    0.029560         0.020310    0.161900   \n",
              "50%      0.095870         0.092630    0.061540         0.033500    0.179200   \n",
              "75%      0.105300         0.130400    0.130700         0.074000    0.195700   \n",
              "max      0.163400         0.345400    0.426800         0.201200    0.304000   \n",
              "\n",
              "       dimensión_fractal  \n",
              "count         569.000000  \n",
              "mean            0.062798  \n",
              "std             0.007060  \n",
              "min             0.049960  \n",
              "25%             0.057700  \n",
              "50%             0.061540  \n",
              "75%             0.066120  \n",
              "max             0.097440  "
            ],
            "text/html": [
              "\n",
              "  <div id=\"df-7d034223-e764-431e-8be1-e6c78e9905a0\">\n",
              "    <div class=\"colab-df-container\">\n",
              "      <div>\n",
              "<style scoped>\n",
              "    .dataframe tbody tr th:only-of-type {\n",
              "        vertical-align: middle;\n",
              "    }\n",
              "\n",
              "    .dataframe tbody tr th {\n",
              "        vertical-align: top;\n",
              "    }\n",
              "\n",
              "    .dataframe thead th {\n",
              "        text-align: right;\n",
              "    }\n",
              "</style>\n",
              "<table border=\"1\" class=\"dataframe\">\n",
              "  <thead>\n",
              "    <tr style=\"text-align: right;\">\n",
              "      <th></th>\n",
              "      <th>diagnóstico</th>\n",
              "      <th>radio</th>\n",
              "      <th>textura</th>\n",
              "      <th>perímetro</th>\n",
              "      <th>área</th>\n",
              "      <th>suavidad</th>\n",
              "      <th>compactibilidad</th>\n",
              "      <th>concavidad</th>\n",
              "      <th>puntos_cóncavos</th>\n",
              "      <th>simetría</th>\n",
              "      <th>dimensión_fractal</th>\n",
              "    </tr>\n",
              "  </thead>\n",
              "  <tbody>\n",
              "    <tr>\n",
              "      <th>count</th>\n",
              "      <td>569.000000</td>\n",
              "      <td>569.000000</td>\n",
              "      <td>569.000000</td>\n",
              "      <td>569.000000</td>\n",
              "      <td>569.000000</td>\n",
              "      <td>569.000000</td>\n",
              "      <td>569.000000</td>\n",
              "      <td>569.000000</td>\n",
              "      <td>569.000000</td>\n",
              "      <td>569.000000</td>\n",
              "      <td>569.000000</td>\n",
              "    </tr>\n",
              "    <tr>\n",
              "      <th>mean</th>\n",
              "      <td>0.372583</td>\n",
              "      <td>14.127292</td>\n",
              "      <td>19.289649</td>\n",
              "      <td>91.969033</td>\n",
              "      <td>654.889104</td>\n",
              "      <td>0.096360</td>\n",
              "      <td>0.104341</td>\n",
              "      <td>0.088799</td>\n",
              "      <td>0.048919</td>\n",
              "      <td>0.181162</td>\n",
              "      <td>0.062798</td>\n",
              "    </tr>\n",
              "    <tr>\n",
              "      <th>std</th>\n",
              "      <td>0.483918</td>\n",
              "      <td>3.524049</td>\n",
              "      <td>4.301036</td>\n",
              "      <td>24.298981</td>\n",
              "      <td>351.914129</td>\n",
              "      <td>0.014064</td>\n",
              "      <td>0.052813</td>\n",
              "      <td>0.079720</td>\n",
              "      <td>0.038803</td>\n",
              "      <td>0.027414</td>\n",
              "      <td>0.007060</td>\n",
              "    </tr>\n",
              "    <tr>\n",
              "      <th>min</th>\n",
              "      <td>0.000000</td>\n",
              "      <td>6.981000</td>\n",
              "      <td>9.710000</td>\n",
              "      <td>43.790000</td>\n",
              "      <td>143.500000</td>\n",
              "      <td>0.052630</td>\n",
              "      <td>0.019380</td>\n",
              "      <td>0.000000</td>\n",
              "      <td>0.000000</td>\n",
              "      <td>0.106000</td>\n",
              "      <td>0.049960</td>\n",
              "    </tr>\n",
              "    <tr>\n",
              "      <th>25%</th>\n",
              "      <td>0.000000</td>\n",
              "      <td>11.700000</td>\n",
              "      <td>16.170000</td>\n",
              "      <td>75.170000</td>\n",
              "      <td>420.300000</td>\n",
              "      <td>0.086370</td>\n",
              "      <td>0.064920</td>\n",
              "      <td>0.029560</td>\n",
              "      <td>0.020310</td>\n",
              "      <td>0.161900</td>\n",
              "      <td>0.057700</td>\n",
              "    </tr>\n",
              "    <tr>\n",
              "      <th>50%</th>\n",
              "      <td>0.000000</td>\n",
              "      <td>13.370000</td>\n",
              "      <td>18.840000</td>\n",
              "      <td>86.240000</td>\n",
              "      <td>551.100000</td>\n",
              "      <td>0.095870</td>\n",
              "      <td>0.092630</td>\n",
              "      <td>0.061540</td>\n",
              "      <td>0.033500</td>\n",
              "      <td>0.179200</td>\n",
              "      <td>0.061540</td>\n",
              "    </tr>\n",
              "    <tr>\n",
              "      <th>75%</th>\n",
              "      <td>1.000000</td>\n",
              "      <td>15.780000</td>\n",
              "      <td>21.800000</td>\n",
              "      <td>104.100000</td>\n",
              "      <td>782.700000</td>\n",
              "      <td>0.105300</td>\n",
              "      <td>0.130400</td>\n",
              "      <td>0.130700</td>\n",
              "      <td>0.074000</td>\n",
              "      <td>0.195700</td>\n",
              "      <td>0.066120</td>\n",
              "    </tr>\n",
              "    <tr>\n",
              "      <th>max</th>\n",
              "      <td>1.000000</td>\n",
              "      <td>28.110000</td>\n",
              "      <td>39.280000</td>\n",
              "      <td>188.500000</td>\n",
              "      <td>2501.000000</td>\n",
              "      <td>0.163400</td>\n",
              "      <td>0.345400</td>\n",
              "      <td>0.426800</td>\n",
              "      <td>0.201200</td>\n",
              "      <td>0.304000</td>\n",
              "      <td>0.097440</td>\n",
              "    </tr>\n",
              "  </tbody>\n",
              "</table>\n",
              "</div>\n",
              "      <button class=\"colab-df-convert\" onclick=\"convertToInteractive('df-7d034223-e764-431e-8be1-e6c78e9905a0')\"\n",
              "              title=\"Convert this dataframe to an interactive table.\"\n",
              "              style=\"display:none;\">\n",
              "        \n",
              "  <svg xmlns=\"http://www.w3.org/2000/svg\" height=\"24px\"viewBox=\"0 0 24 24\"\n",
              "       width=\"24px\">\n",
              "    <path d=\"M0 0h24v24H0V0z\" fill=\"none\"/>\n",
              "    <path d=\"M18.56 5.44l.94 2.06.94-2.06 2.06-.94-2.06-.94-.94-2.06-.94 2.06-2.06.94zm-11 1L8.5 8.5l.94-2.06 2.06-.94-2.06-.94L8.5 2.5l-.94 2.06-2.06.94zm10 10l.94 2.06.94-2.06 2.06-.94-2.06-.94-.94-2.06-.94 2.06-2.06.94z\"/><path d=\"M17.41 7.96l-1.37-1.37c-.4-.4-.92-.59-1.43-.59-.52 0-1.04.2-1.43.59L10.3 9.45l-7.72 7.72c-.78.78-.78 2.05 0 2.83L4 21.41c.39.39.9.59 1.41.59.51 0 1.02-.2 1.41-.59l7.78-7.78 2.81-2.81c.8-.78.8-2.07 0-2.86zM5.41 20L4 18.59l7.72-7.72 1.47 1.35L5.41 20z\"/>\n",
              "  </svg>\n",
              "      </button>\n",
              "      \n",
              "  <style>\n",
              "    .colab-df-container {\n",
              "      display:flex;\n",
              "      flex-wrap:wrap;\n",
              "      gap: 12px;\n",
              "    }\n",
              "\n",
              "    .colab-df-convert {\n",
              "      background-color: #E8F0FE;\n",
              "      border: none;\n",
              "      border-radius: 50%;\n",
              "      cursor: pointer;\n",
              "      display: none;\n",
              "      fill: #1967D2;\n",
              "      height: 32px;\n",
              "      padding: 0 0 0 0;\n",
              "      width: 32px;\n",
              "    }\n",
              "\n",
              "    .colab-df-convert:hover {\n",
              "      background-color: #E2EBFA;\n",
              "      box-shadow: 0px 1px 2px rgba(60, 64, 67, 0.3), 0px 1px 3px 1px rgba(60, 64, 67, 0.15);\n",
              "      fill: #174EA6;\n",
              "    }\n",
              "\n",
              "    [theme=dark] .colab-df-convert {\n",
              "      background-color: #3B4455;\n",
              "      fill: #D2E3FC;\n",
              "    }\n",
              "\n",
              "    [theme=dark] .colab-df-convert:hover {\n",
              "      background-color: #434B5C;\n",
              "      box-shadow: 0px 1px 3px 1px rgba(0, 0, 0, 0.15);\n",
              "      filter: drop-shadow(0px 1px 2px rgba(0, 0, 0, 0.3));\n",
              "      fill: #FFFFFF;\n",
              "    }\n",
              "  </style>\n",
              "\n",
              "      <script>\n",
              "        const buttonEl =\n",
              "          document.querySelector('#df-7d034223-e764-431e-8be1-e6c78e9905a0 button.colab-df-convert');\n",
              "        buttonEl.style.display =\n",
              "          google.colab.kernel.accessAllowed ? 'block' : 'none';\n",
              "\n",
              "        async function convertToInteractive(key) {\n",
              "          const element = document.querySelector('#df-7d034223-e764-431e-8be1-e6c78e9905a0');\n",
              "          const dataTable =\n",
              "            await google.colab.kernel.invokeFunction('convertToInteractive',\n",
              "                                                     [key], {});\n",
              "          if (!dataTable) return;\n",
              "\n",
              "          const docLinkHtml = 'Like what you see? Visit the ' +\n",
              "            '<a target=\"_blank\" href=https://colab.research.google.com/notebooks/data_table.ipynb>data table notebook</a>'\n",
              "            + ' to learn more about interactive tables.';\n",
              "          element.innerHTML = '';\n",
              "          dataTable['output_type'] = 'display_data';\n",
              "          await google.colab.output.renderOutput(dataTable, element);\n",
              "          const docLink = document.createElement('div');\n",
              "          docLink.innerHTML = docLinkHtml;\n",
              "          element.appendChild(docLink);\n",
              "        }\n",
              "      </script>\n",
              "    </div>\n",
              "  </div>\n",
              "  "
            ]
          },
          "metadata": {},
          "execution_count": 12
        }
      ]
    },
    {
      "cell_type": "markdown",
      "source": [
        "**Outliers**"
      ],
      "metadata": {
        "id": "HNiMEFeKxGFV"
      }
    },
    {
      "cell_type": "code",
      "source": [
        "fig, ax = plt.subplots(9,2, figsize = (10,35))\n",
        "\n",
        "#RADIO\n",
        "ax[0,0].hist(data[\"radio\"], bins = 100, color = \"#F0534D\")\n",
        "ax[0,0].set(title = \"Histograma\",\n",
        "       xlabel = \"radio [mm]\",\n",
        "       ylabel = \"Frecuencia\")\n",
        "x = data[\"radio\"]\n",
        "ax[0,1].boxplot(x.values, vert = False)\n",
        "ax[0,1].set(title = \"Boxplot\",\n",
        "       xlabel = \"radio [mm]\")\n",
        "\n",
        "#TEXTURA\n",
        "ax[1,0].hist(data[\"textura\"], bins = 100, color = \"#E455D0\")\n",
        "ax[0,0].set(xlabel = \"textura\", ylabel = \"Frecuencia\")\n",
        "ax[1,1].boxplot(x.values, vert = False)\n",
        "ax[1,1].set(xlabel = \"textura\")\n",
        "\n",
        "#PERÍMETRO\n",
        "ax[2,0].hist(data[\"perímetro\"], bins = 100, color = \"#FA508E\")\n",
        "ax[2,0].set(xlabel = \"perímetro [mm]\",\n",
        "       ylabel = \"frecuencia\")\n",
        "x = data[\"perímetro\"]\n",
        "x.dropna(inplace = True) #Se eliminan los registros vaciós\n",
        "ax[2,1].boxplot(x.values, vert = False)\n",
        "ax[2,1].set(xlabel = \"perímetro [mm]\")\n",
        "\n",
        "#ÁREA\n",
        "ax[3,0].hist(data[\"área\"], bins = 100, color = \"#D850FA\")\n",
        "ax[3,0].set(xlabel = \"área [mm]\",\n",
        "       ylabel = \"frecuencia\")\n",
        "x = data[\"área\"]\n",
        "ax[3,1].boxplot(x.values, vert = False)\n",
        "ax[3,1].set(xlabel = \"área [mm]\")\n",
        "\n",
        "#COMPACTIBILIDAD\n",
        "ax[4,0].hist(data[\"compactibilidad\"], bins = 100, color = \"#A34DF0\")\n",
        "ax[4,0].set(xlabel = \"compactibilidad\",\n",
        "       ylabel = \"frecuencia\")\n",
        "x = data[\"compactibilidad\"]\n",
        "ax[4,1].boxplot(x.values, vert = False)\n",
        "ax[4,1].set(xlabel = \"compactibilidad\")\n",
        "\n",
        "#CONCAVIDAD\n",
        "ax[5,0].hist(data[\"concavidad\"], bins = 100, color = \"#EF81C0\")\n",
        "ax[5,0].set(xlabel = \"concavidad [mm]\",\n",
        "       ylabel = \"frecuencia\")\n",
        "x = data[\"concavidad\"]\n",
        "ax[5,1].boxplot(x.values, vert = False)\n",
        "ax[5,1].set(xlabel = \"concavidad [mm]\")\n",
        "\n",
        "#PUNTOS_CÓNCAVOS\n",
        "ax[6,0].hist(data[\"puntos_cóncavos\"], bins = 100, color = \"#E450FA\")\n",
        "ax[6,0].set(xlabel = \"puntos_cóncavos [mm]\",\n",
        "       ylabel = \"frecuencia\")\n",
        "#Análisis de la variable duración\n",
        "x = data[\"puntos_cóncavos\"]\n",
        "ax[6,1].boxplot(x.values, vert = False)\n",
        "ax[6,1].set(xlabel = \"puntos_cóncavos\")\n",
        "\n",
        "#SIMETRÍA\n",
        "ax[7,0].hist(data[\"simetría\"], bins = 100, color = \"#FA2ADD\")\n",
        "ax[7,0].set(xlabel = \"simetría\",\n",
        "       ylabel = \"frecuencia\")\n",
        "x = data[\"simetría\"]\n",
        "ax[7,1].boxplot(x.values, vert = False)\n",
        "ax[7,1].set(title = \"Boxplot de la variable 'simetría'\",\n",
        "       xlabel = \"simetría [mm]\")\n",
        "\n",
        "#DIMENSIÓN FRACTAL\n",
        "ax[8,0].hist(data[\"dimensión_fractal\"], bins = 100, color = \"#E354D0\")\n",
        "ax[8,0].set(xlabel = \"dimensión fractal\",\n",
        "       ylabel = \"frecuencia\")\n",
        "x = data[\"dimensión_fractal\"]\n",
        "ax[8,1].boxplot(x.values, vert = False)\n",
        "ax[8,1].set(xlabel = \"simetría [mm]\")\n",
        "\n",
        "plt.show()"
      ],
      "metadata": {
        "id": "zNey-u13TZQ2"
      },
      "execution_count": null,
      "outputs": []
    },
    {
      "cell_type": "markdown",
      "source": [
        "# **EDA**"
      ],
      "metadata": {
        "id": "IDXJ5pwIxOAD"
      }
    },
    {
      "cell_type": "markdown",
      "source": [
        "**Encoding**"
      ],
      "metadata": {
        "id": "EzxvlOaEqY7a"
      }
    },
    {
      "cell_type": "code",
      "source": [
        "features_mean=list(data.columns[1:11])\n",
        "#Se separan los datos en función de su diagnóstico\n",
        "dfM=data[data[\"diagnóstico\"] == 1]\n",
        "dfB=data[data[\"diagnóstico\"] == 0]"
      ],
      "metadata": {
        "id": "0zlOpUqlxXUM"
      },
      "execution_count": 26,
      "outputs": []
    },
    {
      "cell_type": "code",
      "source": [
        "#Stack the data\n",
        "plt.rcParams.update({\"font.size\": 8})\n",
        "fig, axes = plt.subplots(nrows=5, ncols=2, figsize=(8,10))\n",
        "axes = axes.ravel()\n",
        "for idx,ax in enumerate(axes):\n",
        "    ax.figure\n",
        "    binwidth= (max(data[features_mean[idx]]) - min(data[features_mean[idx]]))/50\n",
        "    ax.hist([dfM[features_mean[idx]],dfB[features_mean[idx]]], bins=np.arange(min(data[features_mean[idx]]), max(data[features_mean[idx]]) + binwidth, binwidth) , alpha=0.8,stacked=True, label=[\"M\",\"B\"],color=[\"#943424\",\"#239464\"])\n",
        "    ax.legend(loc=\"upper right\")\n",
        "    ax.set_title(features_mean[idx])\n",
        "plt.tight_layout()\n",
        "plt.show()"
      ],
      "metadata": {
        "id": "r71MqI3YxPee"
      },
      "execution_count": null,
      "outputs": []
    },
    {
      "cell_type": "markdown",
      "source": [
        "Creación del modelo"
      ],
      "metadata": {
        "id": "9PndODA2xCAs"
      }
    },
    {
      "cell_type": "code",
      "source": [
        "traindf, testdf = train_test_split(data, test_size = 0.3)"
      ],
      "metadata": {
        "id": "v9LLHGtuJQNd"
      },
      "execution_count": 32,
      "outputs": []
    },
    {
      "cell_type": "code",
      "source": [
        "#Función genérica para el modelo de clasificación y para evaluar su performance\n",
        "def classification_model(model, data, predictors, outcome):\n",
        "  #Modelo:\n",
        "  model.fit(data[predictors],data[outcome])\n",
        "\n",
        "  #predicciones en training set:\n",
        "  predictions = model.predict(data[predictors])\n",
        "\n",
        "  #Accuracy\n",
        "  accuracy = metrics.accuracy_score(predictions,data[outcome])\n",
        "  print(\"Accuracy : %s\" % \"{0:.3%}\".format(accuracy))\n",
        "\n",
        "  #K-fold validación cruzada\n",
        "  X = np.array(data)\n",
        "  kf = KFold(n_splits=5, shuffle = True)\n",
        "\n",
        "  error = []\n",
        "\n",
        "  for train, test in kf.split(X):\n",
        "    #Filtro train\n",
        "    train_predictors = (data[predictors].iloc[train,:])\n",
        "\n",
        "    #Objetivo\n",
        "    train_target = data[outcome].iloc[train]\n",
        "\n",
        "    #Entrenamiento\n",
        "    model.fit(train_predictors, train_target)\n",
        "\n",
        "    #Errores\n",
        "    error.append(model.score(data[predictors].iloc[test,:], data[outcome].iloc[test]))\n",
        "\n",
        "    print(\"Cross-Validation Score : %s\" % \"{0:.3%}\".format(np.mean(error)))\n",
        "\n",
        "  #Ajuste del modelo\n",
        "  model.fit(data[predictors],data[outcome])"
      ],
      "metadata": {
        "id": "ruffngf3yI7X"
      },
      "execution_count": 30,
      "outputs": []
    },
    {
      "cell_type": "code",
      "source": [
        "predictor_var = [\"radio\",\"perímetro\",\"área\",\"puntos_cóncavos\",\"concavidad\"]\n",
        "outcome_var=\"diagnóstico\"\n",
        "model=LogisticRegression()\n",
        "classification_model(model,traindf,predictor_var,outcome_var)"
      ],
      "metadata": {
        "id": "glwu_28XyOym"
      },
      "execution_count": null,
      "outputs": []
    },
    {
      "cell_type": "code",
      "source": [
        "predictor_var = [\"radio\"]\n",
        "model=LogisticRegression()\n",
        "classification_model(model,traindf,predictor_var,outcome_var)"
      ],
      "metadata": {
        "colab": {
          "base_uri": "https://localhost:8080/"
        },
        "id": "Wc4xLR57zYT0",
        "outputId": "e8a2dcf4-35f5-411e-feb2-10d5499dfa7f"
      },
      "execution_count": 34,
      "outputs": [
        {
          "output_type": "stream",
          "name": "stdout",
          "text": [
            "Accuracy : 88.191%\n",
            "Cross-Validation Score : 88.750%\n",
            "Cross-Validation Score : 87.500%\n",
            "Cross-Validation Score : 88.333%\n",
            "Cross-Validation Score : 87.136%\n",
            "Cross-Validation Score : 88.190%\n"
          ]
        }
      ]
    },
    {
      "cell_type": "code",
      "source": [
        "predictor_var = ['radius_mean','perimeter_mean','area_mean','compactness_mean','concave points_mean']\n",
        "model = DecisionTreeClassifier()\n",
        "classification_model(model,traindf,predictor_var,outcome_var)"
      ],
      "metadata": {
        "colab": {
          "base_uri": "https://localhost:8080/"
        },
        "id": "rwFOIQeXzlcg",
        "outputId": "b93431e8-3050-4d27-a2db-8a57822eae43"
      },
      "execution_count": null,
      "outputs": [
        {
          "output_type": "stream",
          "name": "stdout",
          "text": [
            "Accuracy : 100.000%\n",
            "Cross-Validation Score : 90.000%\n",
            "Cross-Validation Score : 87.500%\n",
            "Cross-Validation Score : 86.250%\n",
            "Cross-Validation Score : 88.422%\n",
            "Cross-Validation Score : 89.978%\n"
          ]
        }
      ]
    },
    {
      "cell_type": "code",
      "source": [
        "# Use all the features of the nucleus\n",
        "predictor_var = features_mean\n",
        "model = RandomForestClassifier(n_estimators=100,min_samples_split=25, max_depth=7, max_features=2)\n",
        "classification_model(model, traindf,predictor_var,outcome_var)"
      ],
      "metadata": {
        "colab": {
          "base_uri": "https://localhost:8080/"
        },
        "id": "2FufrJoA1clG",
        "outputId": "09794992-ceef-4824-dbba-4f2e66a00f30"
      },
      "execution_count": null,
      "outputs": [
        {
          "output_type": "stream",
          "name": "stdout",
          "text": [
            "Accuracy : 95.980%\n",
            "Cross-Validation Score : 91.250%\n",
            "Cross-Validation Score : 93.125%\n",
            "Cross-Validation Score : 92.917%\n",
            "Cross-Validation Score : 93.105%\n",
            "Cross-Validation Score : 92.712%\n"
          ]
        }
      ]
    },
    {
      "cell_type": "code",
      "source": [
        "#Create a series with feature importances:\n",
        "featimp = pd.Series(model.feature_importances_, index=predictor_var).sort_values(ascending=False)\n",
        "print(featimp)"
      ],
      "metadata": {
        "colab": {
          "base_uri": "https://localhost:8080/"
        },
        "id": "fcDyV9q41lp9",
        "outputId": "de9cd1da-d355-4583-ccaa-7a3c84912e88"
      },
      "execution_count": null,
      "outputs": [
        {
          "output_type": "stream",
          "name": "stdout",
          "text": [
            "concave points_mean       0.265121\n",
            "perimeter_mean            0.230853\n",
            "radius_mean               0.140601\n",
            "concavity_mean            0.128710\n",
            "area_mean                 0.107303\n",
            "compactness_mean          0.067544\n",
            "texture_mean              0.031740\n",
            "smoothness_mean           0.014222\n",
            "symmetry_mean             0.007971\n",
            "fractal_dimension_mean    0.005935\n",
            "dtype: float64\n"
          ]
        }
      ]
    },
    {
      "cell_type": "code",
      "source": [
        "# Using top 5 features\n",
        "predictor_var = ['concave points_mean','area_mean','radius_mean','perimeter_mean','concavity_mean',]\n",
        "model = RandomForestClassifier(n_estimators=100, min_samples_split=25, max_depth=7, max_features=2)\n",
        "classification_model(model,traindf,predictor_var,outcome_var)"
      ],
      "metadata": {
        "colab": {
          "base_uri": "https://localhost:8080/"
        },
        "id": "7kaPudE71pOy",
        "outputId": "2c6f2e40-97c6-4b87-91b8-44abe64bdc8b"
      },
      "execution_count": null,
      "outputs": [
        {
          "output_type": "stream",
          "name": "stdout",
          "text": [
            "Accuracy : 94.975%\n",
            "Cross-Validation Score : 92.500%\n",
            "Cross-Validation Score : 91.875%\n",
            "Cross-Validation Score : 92.500%\n",
            "Cross-Validation Score : 92.793%\n",
            "Cross-Validation Score : 92.715%\n"
          ]
        }
      ]
    },
    {
      "cell_type": "code",
      "source": [
        "predictor_var =  ['radius_mean']\n",
        "model = RandomForestClassifier(n_estimators=100)\n",
        "classification_model(model, traindf,predictor_var,outcome_var)"
      ],
      "metadata": {
        "colab": {
          "base_uri": "https://localhost:8080/"
        },
        "id": "0APhzWcN1u4J",
        "outputId": "e39606a8-fe3c-4950-8bab-d7247832df30"
      },
      "execution_count": null,
      "outputs": [
        {
          "output_type": "stream",
          "name": "stdout",
          "text": [
            "Accuracy : 97.739%\n",
            "Cross-Validation Score : 85.000%\n",
            "Cross-Validation Score : 81.250%\n",
            "Cross-Validation Score : 80.833%\n",
            "Cross-Validation Score : 81.511%\n",
            "Cross-Validation Score : 80.399%\n"
          ]
        }
      ]
    },
    {
      "cell_type": "code",
      "source": [
        "# Use all the features of the nucleus\n",
        "predictor_var = features_mean\n",
        "model = RandomForestClassifier(n_estimators=100,min_samples_split=25, max_depth=7, max_features=2)\n",
        "classification_model(model, testdf,predictor_var,outcome_var)"
      ],
      "metadata": {
        "id": "gnoG1lvp1zpY"
      },
      "execution_count": null,
      "outputs": []
    }
  ]
}