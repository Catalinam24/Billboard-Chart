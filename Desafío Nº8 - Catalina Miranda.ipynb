{
  "nbformat": 4,
  "nbformat_minor": 0,
  "metadata": {
    "colab": {
      "provenance": [],
      "toc_visible": true
    },
    "kernelspec": {
      "name": "python3",
      "display_name": "Python 3"
    },
    "language_info": {
      "name": "python"
    }
  },
  "cells": [
    {
      "cell_type": "markdown",
      "source": [
        "#Descarga de Billboard Chart"
      ],
      "metadata": {
        "id": "am9PHacTKztg"
      }
    },
    {
      "cell_type": "code",
      "source": [
        "pip install billboard.py"
      ],
      "metadata": {
        "id": "3atQfZkAK0pm"
      },
      "execution_count": null,
      "outputs": []
    },
    {
      "cell_type": "code",
      "source": [
        "#Librerías que se utilizarán\n",
        "import pandas as pd\n",
        "import requests\n",
        "import json\n",
        "import numpy as np\n",
        "import billboard #API para descargar billboard charts\n",
        "from datetime import date\n",
        "from datetime import datetime\n",
        "from datetime import timedelta"
      ],
      "metadata": {
        "id": "chZfGv4Oj4tT"
      },
      "execution_count": null,
      "outputs": []
    },
    {
      "cell_type": "code",
      "source": [
        "fecha_inicial = datetime(2021, 6, 5) \n",
        "#Se crea una lista que almacena las fechas a extraer\n",
        "m = 83 #Cantidad de semanas del ranking por extraer\n",
        "fecha = fecha_inicial\n",
        "dates = []\n",
        "for i in range(0,m):\n",
        "  dates.append(fecha)\n",
        "  fecha = fecha + timedelta(days=7)"
      ],
      "metadata": {
        "id": "bDMmZL_sXt7R"
      },
      "execution_count": null,
      "outputs": []
    },
    {
      "cell_type": "code",
      "source": [
        "#Se convierte la lista en una serie para obtener los datos en formato string\n",
        "fechas = pd.Series(data = dates)\n",
        "fechas = fechas.astype(str)"
      ],
      "metadata": {
        "id": "7PEUNT-QdBcv"
      },
      "execution_count": null,
      "outputs": []
    },
    {
      "cell_type": "code",
      "source": [
        "#Se crea un dataframe vacío para almacenar los charts\n",
        "hot100 = pd.DataFrame(columns = [\"Ranking\", \"Canción\", \"Artista\", \"Ranking semana anterior\", \"Semanas en top100\", \"Fecha\", \"Máximo Ranking\"], index = np.arange(0,100))\n",
        "h100 = pd.DataFrame(columns = [\"Ranking\", \"Canción\", \"Artista\", \"Ranking semana anterior\", \"Semanas en top100\", \"Fecha\", \"Máximo Ranking\"])"
      ],
      "metadata": {
        "id": "hyhxj86qg9_4"
      },
      "execution_count": null,
      "outputs": []
    },
    {
      "cell_type": "code",
      "source": [
        "for i in range(0,m):\n",
        "  chart = billboard.ChartData(\"hot-100\", date = fechas.iloc[i]) #El argumento de date tiene que ser un string\n",
        "  for k in range(0, 100):\n",
        "    song = chart[k]\n",
        "    hot100.iloc[k,1] = song.title\n",
        "    hot100.iloc[k,5] = fechas.iloc[i]\n",
        "    hot100.iloc[k,2] = song.artist\n",
        "    hot100.iloc[k,0] = song.rank\n",
        "    hot100.iloc[k,3] = song.lastPos\n",
        "    hot100.iloc[k,6] = song.peakPos\n",
        "    hot100.iloc[k,4] = song.weeks\n",
        "  h100 = pd.concat([h100,hot100]) "
      ],
      "metadata": {
        "id": "wQnuM0XhTkcy"
      },
      "execution_count": null,
      "outputs": []
    },
    {
      "cell_type": "code",
      "source": [
        "#Se exporta el dataframe obtenido\n",
        "h100.to_excel(r\"Downloads\\h100.xlsx\")"
      ],
      "metadata": {
        "id": "M-8tBbLNIbVJ"
      },
      "execution_count": null,
      "outputs": []
    },
    {
      "cell_type": "markdown",
      "source": [
        "# Descarga de atributos musicales de spotify"
      ],
      "metadata": {
        "id": "XRYNfYNAK9Vp"
      }
    },
    {
      "cell_type": "code",
      "source": [
        "from google.colab import drive\n",
        "drive.mount('/content/drive')"
      ],
      "metadata": {
        "colab": {
          "base_uri": "https://localhost:8080/"
        },
        "id": "RZThYKkFnkLl",
        "outputId": "59553667-3420-44e1-cf42-dfe37b52dd87"
      },
      "execution_count": null,
      "outputs": [
        {
          "output_type": "stream",
          "name": "stdout",
          "text": [
            "Mounted at /content/drive\n"
          ]
        }
      ]
    },
    {
      "cell_type": "code",
      "source": [
        "h100 = pd.read_excel('/content/drive/MyDrive/Curso Data Science/Desafío 8/Dataset seleccionado/Downloads_h100.xlsx')"
      ],
      "metadata": {
        "id": "sm0aCI8Lm1bT"
      },
      "execution_count": 74,
      "outputs": []
    },
    {
      "cell_type": "code",
      "source": [
        "pip install spotipy"
      ],
      "metadata": {
        "id": "neXPgW_PEefP",
        "colab": {
          "base_uri": "https://localhost:8080/"
        },
        "outputId": "0979094d-4cbb-4ccf-ce15-8ba64d0ecb98"
      },
      "execution_count": 75,
      "outputs": [
        {
          "output_type": "stream",
          "name": "stdout",
          "text": [
            "Looking in indexes: https://pypi.org/simple, https://us-python.pkg.dev/colab-wheels/public/simple/\n",
            "Requirement already satisfied: spotipy in /usr/local/lib/python3.9/dist-packages (2.23.0)\n",
            "Requirement already satisfied: urllib3>=1.26.0 in /usr/local/lib/python3.9/dist-packages (from spotipy) (1.26.15)\n",
            "Requirement already satisfied: six>=1.15.0 in /usr/local/lib/python3.9/dist-packages (from spotipy) (1.16.0)\n",
            "Requirement already satisfied: redis>=3.5.3 in /usr/local/lib/python3.9/dist-packages (from spotipy) (4.5.4)\n",
            "Requirement already satisfied: requests>=2.25.0 in /usr/local/lib/python3.9/dist-packages (from spotipy) (2.27.1)\n",
            "Requirement already satisfied: async-timeout>=4.0.2 in /usr/local/lib/python3.9/dist-packages (from redis>=3.5.3->spotipy) (4.0.2)\n",
            "Requirement already satisfied: idna<4,>=2.5 in /usr/local/lib/python3.9/dist-packages (from requests>=2.25.0->spotipy) (3.4)\n",
            "Requirement already satisfied: charset-normalizer~=2.0.0 in /usr/local/lib/python3.9/dist-packages (from requests>=2.25.0->spotipy) (2.0.12)\n",
            "Requirement already satisfied: certifi>=2017.4.17 in /usr/local/lib/python3.9/dist-packages (from requests>=2.25.0->spotipy) (2022.12.7)\n"
          ]
        }
      ]
    },
    {
      "cell_type": "code",
      "source": [
        "import spotipy\n",
        "import os \n",
        "from spotipy.oauth2 import SpotifyClientCredentials\n",
        "cid = '2422e7b85ead40f6a01a0bee5d5aa101'\n",
        "secret = 'e583c32b186f4867a9863a9cfcc7190c'\n",
        "client_credentials_manager = SpotifyClientCredentials(client_id=cid, client_secret=secret)\n",
        "sp = spotipy.Spotify(client_credentials_manager = client_credentials_manager)"
      ],
      "metadata": {
        "id": "5UgIoTbaEL42"
      },
      "execution_count": 60,
      "outputs": []
    },
    {
      "cell_type": "code",
      "source": [
        "from spotipy.oauth2 import SpotifyClientCredentials\n",
        "spotify = spotipy.Spotify(auth_manager=SpotifyClientCredentials(client_id=cid, client_secret=secret))"
      ],
      "metadata": {
        "id": "IDZDkoInYHA8"
      },
      "execution_count": 56,
      "outputs": []
    },
    {
      "cell_type": "code",
      "source": [
        "tracks = h100.drop(columns = [\"Ranking\", \"Semanas en top100\", \"Máximo Ranking\", \"Ranking semana anterior\", \"Unnamed: 0\", \"Fecha\", \"Canción ID\", \"Canción ID.1\"])"
      ],
      "metadata": {
        "id": "RN5d9rbCrsoM"
      },
      "execution_count": 84,
      "outputs": []
    },
    {
      "cell_type": "code",
      "source": [
        "tracks.insert(2,\"Track_ID\",0)"
      ],
      "metadata": {
        "id": "tKlxwE-7o6Nr"
      },
      "execution_count": 85,
      "outputs": []
    },
    {
      "cell_type": "code",
      "source": [
        "for i in range(7656,len(tracks)):\n",
        "  artist = tracks.iloc[i,1]\n",
        "  title = tracks.iloc[i,0]\n",
        "  #results = spotify.search(q='artist:' + artist + ' track:' + title, type='track')\n",
        "  results = sp.search(q=f\"{tracks['Canción'][i]} {tracks['Artista'][i]} \", limit=5, type='track')\n",
        "  track = pd.DataFrame.from_dict(results, orient = \"index\")\n",
        "  #me da el uri, también podrìa ser con el ID\n",
        "  track_id = results['tracks']['items'][0]['uri']\n",
        "  tracks.iloc[i,2] = track_id"
      ],
      "metadata": {
        "id": "NP8GTh0IoDrl"
      },
      "execution_count": 104,
      "outputs": []
    },
    {
      "cell_type": "code",
      "source": [
        "tracks"
      ],
      "metadata": {
        "colab": {
          "base_uri": "https://localhost:8080/",
          "height": 423
        },
        "id": "onHUH9AZisYD",
        "outputId": "988305fe-a020-48fe-afe4-f601cd46d832"
      },
      "execution_count": 105,
      "outputs": [
        {
          "output_type": "execute_result",
          "data": {
            "text/plain": [
              "                  Canción                                   Artista  \\\n",
              "0                  Butter                                       BTS   \n",
              "1                Good 4 U                            Olivia Rodrigo   \n",
              "2                 Deja Vu                            Olivia Rodrigo   \n",
              "3              Levitating                                  Dua Lipa   \n",
              "4     Leave The Door Open  Silk Sonic (Bruno Mars & Anderson .Paak)   \n",
              "...                   ...                                       ...   \n",
              "8495            Down Home                              Jimmie Allen   \n",
              "8496  One Thing At A Time                             Morgan Wallen   \n",
              "8497       Hold Me Closer               Elton John & Britney Spears   \n",
              "8498                  Far                                       SZA   \n",
              "8499             All Mine                              Brent Faiyaz   \n",
              "\n",
              "                                  Track_ID  \n",
              "0     spotify:track:6jjYDGxVJsWS0a5wlVF5vS  \n",
              "1     spotify:track:4ZtFanR9U6ndgddUvNcjcG  \n",
              "2     spotify:track:6HU7h9RYOaPRFeh0R3UeAr  \n",
              "3     spotify:track:5nujrmhLynf4yMoMtj8AQF  \n",
              "4     spotify:track:02VBYrHfVwfEWXk5DXyf0T  \n",
              "...                                    ...  \n",
              "8495  spotify:track:1EfTaVUbZmrtqniZTj6LYF  \n",
              "8496  spotify:track:7K3BhSpAxZBznislvUMVtn  \n",
              "8497  spotify:track:72yP0DUlWPyH8P7IoxskwN  \n",
              "8498  spotify:track:74NI58MQexwZjNu1Gu6GjT  \n",
              "8499  spotify:track:3XgGQ1wjo5khvq2UImjyNF  \n",
              "\n",
              "[8500 rows x 3 columns]"
            ],
            "text/html": [
              "\n",
              "  <div id=\"df-f0cd81cd-bf2a-419a-837c-517cceadf6a5\">\n",
              "    <div class=\"colab-df-container\">\n",
              "      <div>\n",
              "<style scoped>\n",
              "    .dataframe tbody tr th:only-of-type {\n",
              "        vertical-align: middle;\n",
              "    }\n",
              "\n",
              "    .dataframe tbody tr th {\n",
              "        vertical-align: top;\n",
              "    }\n",
              "\n",
              "    .dataframe thead th {\n",
              "        text-align: right;\n",
              "    }\n",
              "</style>\n",
              "<table border=\"1\" class=\"dataframe\">\n",
              "  <thead>\n",
              "    <tr style=\"text-align: right;\">\n",
              "      <th></th>\n",
              "      <th>Canción</th>\n",
              "      <th>Artista</th>\n",
              "      <th>Track_ID</th>\n",
              "    </tr>\n",
              "  </thead>\n",
              "  <tbody>\n",
              "    <tr>\n",
              "      <th>0</th>\n",
              "      <td>Butter</td>\n",
              "      <td>BTS</td>\n",
              "      <td>spotify:track:6jjYDGxVJsWS0a5wlVF5vS</td>\n",
              "    </tr>\n",
              "    <tr>\n",
              "      <th>1</th>\n",
              "      <td>Good 4 U</td>\n",
              "      <td>Olivia Rodrigo</td>\n",
              "      <td>spotify:track:4ZtFanR9U6ndgddUvNcjcG</td>\n",
              "    </tr>\n",
              "    <tr>\n",
              "      <th>2</th>\n",
              "      <td>Deja Vu</td>\n",
              "      <td>Olivia Rodrigo</td>\n",
              "      <td>spotify:track:6HU7h9RYOaPRFeh0R3UeAr</td>\n",
              "    </tr>\n",
              "    <tr>\n",
              "      <th>3</th>\n",
              "      <td>Levitating</td>\n",
              "      <td>Dua Lipa</td>\n",
              "      <td>spotify:track:5nujrmhLynf4yMoMtj8AQF</td>\n",
              "    </tr>\n",
              "    <tr>\n",
              "      <th>4</th>\n",
              "      <td>Leave The Door Open</td>\n",
              "      <td>Silk Sonic (Bruno Mars &amp; Anderson .Paak)</td>\n",
              "      <td>spotify:track:02VBYrHfVwfEWXk5DXyf0T</td>\n",
              "    </tr>\n",
              "    <tr>\n",
              "      <th>...</th>\n",
              "      <td>...</td>\n",
              "      <td>...</td>\n",
              "      <td>...</td>\n",
              "    </tr>\n",
              "    <tr>\n",
              "      <th>8495</th>\n",
              "      <td>Down Home</td>\n",
              "      <td>Jimmie Allen</td>\n",
              "      <td>spotify:track:1EfTaVUbZmrtqniZTj6LYF</td>\n",
              "    </tr>\n",
              "    <tr>\n",
              "      <th>8496</th>\n",
              "      <td>One Thing At A Time</td>\n",
              "      <td>Morgan Wallen</td>\n",
              "      <td>spotify:track:7K3BhSpAxZBznislvUMVtn</td>\n",
              "    </tr>\n",
              "    <tr>\n",
              "      <th>8497</th>\n",
              "      <td>Hold Me Closer</td>\n",
              "      <td>Elton John &amp; Britney Spears</td>\n",
              "      <td>spotify:track:72yP0DUlWPyH8P7IoxskwN</td>\n",
              "    </tr>\n",
              "    <tr>\n",
              "      <th>8498</th>\n",
              "      <td>Far</td>\n",
              "      <td>SZA</td>\n",
              "      <td>spotify:track:74NI58MQexwZjNu1Gu6GjT</td>\n",
              "    </tr>\n",
              "    <tr>\n",
              "      <th>8499</th>\n",
              "      <td>All Mine</td>\n",
              "      <td>Brent Faiyaz</td>\n",
              "      <td>spotify:track:3XgGQ1wjo5khvq2UImjyNF</td>\n",
              "    </tr>\n",
              "  </tbody>\n",
              "</table>\n",
              "<p>8500 rows × 3 columns</p>\n",
              "</div>\n",
              "      <button class=\"colab-df-convert\" onclick=\"convertToInteractive('df-f0cd81cd-bf2a-419a-837c-517cceadf6a5')\"\n",
              "              title=\"Convert this dataframe to an interactive table.\"\n",
              "              style=\"display:none;\">\n",
              "        \n",
              "  <svg xmlns=\"http://www.w3.org/2000/svg\" height=\"24px\"viewBox=\"0 0 24 24\"\n",
              "       width=\"24px\">\n",
              "    <path d=\"M0 0h24v24H0V0z\" fill=\"none\"/>\n",
              "    <path d=\"M18.56 5.44l.94 2.06.94-2.06 2.06-.94-2.06-.94-.94-2.06-.94 2.06-2.06.94zm-11 1L8.5 8.5l.94-2.06 2.06-.94-2.06-.94L8.5 2.5l-.94 2.06-2.06.94zm10 10l.94 2.06.94-2.06 2.06-.94-2.06-.94-.94-2.06-.94 2.06-2.06.94z\"/><path d=\"M17.41 7.96l-1.37-1.37c-.4-.4-.92-.59-1.43-.59-.52 0-1.04.2-1.43.59L10.3 9.45l-7.72 7.72c-.78.78-.78 2.05 0 2.83L4 21.41c.39.39.9.59 1.41.59.51 0 1.02-.2 1.41-.59l7.78-7.78 2.81-2.81c.8-.78.8-2.07 0-2.86zM5.41 20L4 18.59l7.72-7.72 1.47 1.35L5.41 20z\"/>\n",
              "  </svg>\n",
              "      </button>\n",
              "      \n",
              "  <style>\n",
              "    .colab-df-container {\n",
              "      display:flex;\n",
              "      flex-wrap:wrap;\n",
              "      gap: 12px;\n",
              "    }\n",
              "\n",
              "    .colab-df-convert {\n",
              "      background-color: #E8F0FE;\n",
              "      border: none;\n",
              "      border-radius: 50%;\n",
              "      cursor: pointer;\n",
              "      display: none;\n",
              "      fill: #1967D2;\n",
              "      height: 32px;\n",
              "      padding: 0 0 0 0;\n",
              "      width: 32px;\n",
              "    }\n",
              "\n",
              "    .colab-df-convert:hover {\n",
              "      background-color: #E2EBFA;\n",
              "      box-shadow: 0px 1px 2px rgba(60, 64, 67, 0.3), 0px 1px 3px 1px rgba(60, 64, 67, 0.15);\n",
              "      fill: #174EA6;\n",
              "    }\n",
              "\n",
              "    [theme=dark] .colab-df-convert {\n",
              "      background-color: #3B4455;\n",
              "      fill: #D2E3FC;\n",
              "    }\n",
              "\n",
              "    [theme=dark] .colab-df-convert:hover {\n",
              "      background-color: #434B5C;\n",
              "      box-shadow: 0px 1px 3px 1px rgba(0, 0, 0, 0.15);\n",
              "      filter: drop-shadow(0px 1px 2px rgba(0, 0, 0, 0.3));\n",
              "      fill: #FFFFFF;\n",
              "    }\n",
              "  </style>\n",
              "\n",
              "      <script>\n",
              "        const buttonEl =\n",
              "          document.querySelector('#df-f0cd81cd-bf2a-419a-837c-517cceadf6a5 button.colab-df-convert');\n",
              "        buttonEl.style.display =\n",
              "          google.colab.kernel.accessAllowed ? 'block' : 'none';\n",
              "\n",
              "        async function convertToInteractive(key) {\n",
              "          const element = document.querySelector('#df-f0cd81cd-bf2a-419a-837c-517cceadf6a5');\n",
              "          const dataTable =\n",
              "            await google.colab.kernel.invokeFunction('convertToInteractive',\n",
              "                                                     [key], {});\n",
              "          if (!dataTable) return;\n",
              "\n",
              "          const docLinkHtml = 'Like what you see? Visit the ' +\n",
              "            '<a target=\"_blank\" href=https://colab.research.google.com/notebooks/data_table.ipynb>data table notebook</a>'\n",
              "            + ' to learn more about interactive tables.';\n",
              "          element.innerHTML = '';\n",
              "          dataTable['output_type'] = 'display_data';\n",
              "          await google.colab.output.renderOutput(dataTable, element);\n",
              "          const docLink = document.createElement('div');\n",
              "          docLink.innerHTML = docLinkHtml;\n",
              "          element.appendChild(docLink);\n",
              "        }\n",
              "      </script>\n",
              "    </div>\n",
              "  </div>\n",
              "  "
            ]
          },
          "metadata": {},
          "execution_count": 105
        }
      ]
    },
    {
      "cell_type": "code",
      "source": [
        "Audio = pd.DataFrame(columns = [\"danceability\", \"energy\", \"key\", \"loudness\", \"mode\", \"speechiness\", \"acousticness\", \"instrumentalness\", \"liveness\", \"valence\", \"tempo\", \"s\",\"r\",\"f\",\"fd\",\"t\",\"vdx\",\"e\"])\n",
        "for i in range (0,len(tracks)):\n",
        "  if tracks.iloc[i,2] != 0:\n",
        "    s = sp.audio_features(tracks.iloc[i,2])\n",
        "    son = pd.DataFrame(s)\n",
        "  else:\n",
        "    s = 0\n",
        "  Audio = pd.concat([Audio,son])\n"
      ],
      "metadata": {
        "id": "AzOxXYSvi5Dd"
      },
      "execution_count": null,
      "outputs": []
    }
  ]
}